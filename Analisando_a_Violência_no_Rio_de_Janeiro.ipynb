{
  "nbformat": 4,
  "nbformat_minor": 0,
  "metadata": {
    "colab": {
      "name": "Analisando a Violência no Rio de Janeiro.ipynb",
      "provenance": [],
      "collapsed_sections": [],
      "toc_visible": true,
      "include_colab_link": true
    },
    "kernelspec": {
      "name": "python3",
      "display_name": "Python 3"
    }
  },
  "cells": [
    {
      "cell_type": "markdown",
      "metadata": {
        "id": "view-in-github",
        "colab_type": "text"
      },
      "source": [
        "<a href=\"https://colab.research.google.com/github/robson-ribeiro-da-silva/projects_data_science/blob/main/Analisando_a_Viol%C3%AAncia_no_Rio_de_Janeiro.ipynb\" target=\"_parent\"><img src=\"https://colab.research.google.com/assets/colab-badge.svg\" alt=\"Open In Colab\"/></a>"
      ]
    },
    {
      "cell_type": "markdown",
      "metadata": {
        "id": "-eFQZydM9O9J"
      },
      "source": [
        "# **ESTUDO DE CASO COM DATA SCIENCE**\n",
        "# Analisando a Violência no **Rio de Janeiro**\n",
        "\n",
        "\n",
        "<img alt=\"Logo\" width=\"30%\"  height=\"60\" src=\"https://raw.githubusercontent.com/robson-ribeiro-da-silva/imagens/06b7c1b7ad2430cc21bd537aa63295410b1fddaa/banner_data_science_.jpg\">\n",
        "\n",
        "\n",
        "---\n",
        "\n",
        "\n",
        "# O Rio de Janeiro\n",
        "\n",
        "Localizado na região sudeste do país, o **Rio de Janeiro é o terceiro estado mais populoso** da federação segundo os dados do censo do Instituto Brasileiro de Geografia e Estatística (IBGE). \n",
        "\n",
        "Possuindo o **segundo maior PIB (Produto Interno Bruto)** do país, o estado também se apresenta como o **quarto mais elevado no Índice de Desenvolvimento Humano (IDH)** do Brasil.\n",
        "\n",
        "Com o mesmo nome do estado, a capital também denominada Rio de Janeiro, é conhecida pelas belas praias, o Pão de Açúcar e a estátua do Cristo Redentor no cume do morro do Corcovado. A beleza da capital é encantadora sendo um dos pontos de destino mais procurados pelos turistas estrangeiros que visitam o Brasil. Com isso as atividades turísticas se destacam como uma das principais fontes de recursos do estado e que representa cerca de 5% do Produto Interno Bruto (PIB) da região.   \n",
        "\n",
        "Por outro lado, a violência tem enorme impacto como fator negativo ao turismo, afetando diretamente as atividades que compõem o conjunto do setor turístico do estado. Segundo o portal [AgênciaBrasil](https://agenciabrasil.ebc.com.br/) em um levantamento realizado pela Confederação Nacional do Comércio de Bens, Serviços e Turismo (CNC), o turismo foi prejudicado **com a perca de R$ 657 milhões** em consequência da criminalidade no ano de 2017.\n",
        "\n",
        "A violência no Rio de Janeiro é um fator que tem afetado não apenas a vida dos cariocas que lutam diariamente para conviver e enfrentar esse problema, mas que também afeta diretamente ou indiretamente a vida dos brasileiros e até mesmo estrangeiros.  \n",
        "\n",
        "\n",
        "<img alt=\"Violência Rio\" src=\"https://raw.githubusercontent.com/robson-ribeiro-da-silva/imagens/181ec89ca1d85e617f3fa8847e2e670163300032/violencia-rio.jpg\">\n",
        "\n",
        "\n",
        "  \n",
        "**Neste *notebook*, iremos analisar os dados referentes à violência no _Rio de Janeiro_, e ver quais insights podem ser extraídos a partir de dados brutos.** \n",
        "\n",
        "_Análise realizada em 15/05/2021_\n",
        "\n",
        "  \n",
        "---\n",
        "  "
      ]
    },
    {
      "cell_type": "markdown",
      "metadata": {
        "id": "kLI0gJtzDGuQ"
      },
      "source": [
        "# Analisando a Violência no Rio de Janeiro\n",
        "\n",
        "Visto que a violência no Rio de Janeiro é um assunto recorrente que chama bastante a atenção e que possui um impacto considerável não apenas para o estado, mas também para o Brasil, optei por realizar uma análise dos dados relacionados aos casos de ocorrências de criminalidades no estado para que seja possível extrair algumas informações e em seguida obter conclusões."
      ]
    },
    {
      "cell_type": "markdown",
      "metadata": {
        "id": "0zxQHhIUDF_2"
      },
      "source": [
        "## Obtenção dos Dados\n",
        "\n",
        "Para a realização desta análise foram obtidos dados reais da Secretaria de Segurança Pública do Rio de Janeiro, os quais estão disponíveis através do portal do Instituto de Segurança Pública  [ISP Dados Abertos](http://www.ispdados.rj.gov.br/estatistica.html) do Governo do Estado.\n",
        "\n",
        "Através da análise desse conjunto de dados será possível extrair *insights* sobre os casos de criminalidade para poder entender um pouco mais e se aprofundar a respeito da violência no Rio de Janeiro de forma mais didática.  \n"
      ]
    },
    {
      "cell_type": "markdown",
      "metadata": {
        "id": "7vh4at0l90nr"
      },
      "source": [
        "### Importando os dados\n",
        "\n",
        "Inicialmente se faz necessário a importação da biblioteca `pandas` que será utilizada no decorrer desta análise para o tratamento com os dados:\n",
        "\n",
        "* `pandas` - é uma biblioteca de código aberto que fornece estruturas de dados de alto desempenho e fáceis de usar e ferramentas de análise de dados para a linguagem de programação Python. [Documentação](https://pandas.pydata.org/docs/) \n",
        "\n",
        "Em seguida, é a importação do _dataset_, o qual compõe o conjunto de dados a serem utilizados.\n",
        "\n",
        "_O dataset passou por uma etapa de \"pré-processamento\" com o intuito de prepará-lo para esta análise._ "
      ]
    },
    {
      "cell_type": "code",
      "metadata": {
        "id": "dBhczaorLthn"
      },
      "source": [
        "# importar a biblioteca necessaria\n",
        "import pandas as pd"
      ],
      "execution_count": 1,
      "outputs": []
    },
    {
      "cell_type": "code",
      "metadata": {
        "id": "CYLNme_OCX_R"
      },
      "source": [
        "# importar o dataset para um DataFrame\n",
        "df = pd.read_csv(\"https://raw.githubusercontent.com/carlosfab/dsnp2/master/datasets/violencia_rio.csv\")"
      ],
      "execution_count": 2,
      "outputs": []
    },
    {
      "cell_type": "markdown",
      "metadata": {
        "id": "qb5By2nIMS6m"
      },
      "source": [
        "## Análise Inicial dos Dados\n",
        "\n",
        "Após a importação do conjunto de dados, é observado através de uma análise inicial alguns aspectos importantes para se adquirir um entendimento a respeito dos dados utilizados e a estrutura do DataFrame.\n",
        "\n",
        "A seguir estão as etapas da análise inicial:"
      ]
    },
    {
      "cell_type": "markdown",
      "metadata": {
        "id": "HYaJS9qPPa3d"
      },
      "source": [
        "* **Tamanho do DataFrame**\n",
        "\n",
        "Visualizar qual a quantidade de linhas e colunas do conjunto de dados trabalhado e perceber o seu tamanho."
      ]
    },
    {
      "cell_type": "code",
      "metadata": {
        "colab": {
          "base_uri": "https://localhost:8080/"
        },
        "id": "WkFJ_gHoQIzG",
        "outputId": "bf26e94d-bfac-4d55-c721-744a4c535894"
      },
      "source": [
        "# exibir a quantidade de linhas e colunas\n",
        "print(\"Variáveis: \", df.shape[1])\n",
        "print(\"Entradas: \", df.shape[0])"
      ],
      "execution_count": 3,
      "outputs": [
        {
          "output_type": "stream",
          "text": [
            "Variáveis:  56\n",
            "Entradas:  344\n"
          ],
          "name": "stdout"
        }
      ]
    },
    {
      "cell_type": "markdown",
      "metadata": {
        "id": "R6yUWhGYQiej"
      },
      "source": [
        "* **Os nomes das colunas**\n",
        "\n",
        "Visualisar quais os nomes das colunas (_features_) que compõem os recursos do conjunto de dados."
      ]
    },
    {
      "cell_type": "code",
      "metadata": {
        "colab": {
          "base_uri": "https://localhost:8080/"
        },
        "id": "mRkA-p6SRhZB",
        "outputId": "b0610058-5f9e-499b-9b59-2e5de9ecd9f5"
      },
      "source": [
        "# exibir os nomes das colunas\n",
        "df.columns"
      ],
      "execution_count": 4,
      "outputs": [
        {
          "output_type": "execute_result",
          "data": {
            "text/plain": [
              "Index(['vano', 'mes', 'hom_doloso', 'lesao_corp_morte', 'latrocinio',\n",
              "       'hom_por_interv_policial', 'tentat_hom', 'lesao_corp_dolosa', 'estupro',\n",
              "       'hom_culposo', 'lesao_corp_culposa', 'roubo_comercio',\n",
              "       'roubo_residencia', 'roubo_veiculo', 'roubo_carga', 'roubo_transeunte',\n",
              "       'roubo_em_coletivo', 'roubo_banco', 'roubo_cx_eletronico',\n",
              "       'roubo_celular', 'roubo_conducao_saque', 'roubo_apos_saque',\n",
              "       'roubo_bicicleta', 'outros_roubos', 'total_roubos', 'furto_veiculos',\n",
              "       'furto_transeunte', 'furto_coletivo', 'furto_celular',\n",
              "       'furto_bicicleta', 'outros_furtos', 'total_furtos', 'sequestro',\n",
              "       'extorsao', 'sequestro_relampago', 'estelionato', 'apreensao_drogas',\n",
              "       'posse_drogas', 'trafico_drogas', 'apreensao_drogas_sem_autor',\n",
              "       'recuperacao_veiculos', 'apf', 'aaapai', 'cmp', 'cmba', 'ameaca',\n",
              "       'pessoas_desaparecidas', 'encontro_cadaver', 'encontro_ossada',\n",
              "       'pol_militares_mortos_serv', 'pol_civis_mortos_serv',\n",
              "       'indicador_letalidade', 'indicador_roubo_rua', 'indicador_roubo_veic',\n",
              "       'registro_ocorrencias', 'fase'],\n",
              "      dtype='object')"
            ]
          },
          "metadata": {
            "tags": []
          },
          "execution_count": 4
        }
      ]
    },
    {
      "cell_type": "markdown",
      "metadata": {
        "id": "qBPtISddR3A2"
      },
      "source": [
        "* **Os tipos das variáveis** \n",
        "\n",
        "Observar como estão distribuídas as variáveis a respeito de cada tipo que elas possuem para analisar os valores das entradas possíveis."
      ]
    },
    {
      "cell_type": "code",
      "metadata": {
        "colab": {
          "base_uri": "https://localhost:8080/"
        },
        "id": "eWVRXNVhUAUf",
        "outputId": "49c80a13-51b9-4d32-86ba-615b0edc50a7"
      },
      "source": [
        "# exibir os tipos das variáveis\n",
        "df.dtypes"
      ],
      "execution_count": 5,
      "outputs": [
        {
          "output_type": "execute_result",
          "data": {
            "text/plain": [
              "vano                            int64\n",
              "mes                             int64\n",
              "hom_doloso                      int64\n",
              "lesao_corp_morte              float64\n",
              "latrocinio                      int64\n",
              "hom_por_interv_policial       float64\n",
              "tentat_hom                      int64\n",
              "lesao_corp_dolosa               int64\n",
              "estupro                       float64\n",
              "hom_culposo                   float64\n",
              "lesao_corp_culposa            float64\n",
              "roubo_comercio                  int64\n",
              "roubo_residencia                int64\n",
              "roubo_veiculo                   int64\n",
              "roubo_carga                     int64\n",
              "roubo_transeunte                int64\n",
              "roubo_em_coletivo               int64\n",
              "roubo_banco                     int64\n",
              "roubo_cx_eletronico           float64\n",
              "roubo_celular                 float64\n",
              "roubo_conducao_saque          float64\n",
              "roubo_apos_saque              float64\n",
              "roubo_bicicleta               float64\n",
              "outros_roubos                   int64\n",
              "total_roubos                    int64\n",
              "furto_veiculos                  int64\n",
              "furto_transeunte                int64\n",
              "furto_coletivo                float64\n",
              "furto_celular                 float64\n",
              "furto_bicicleta               float64\n",
              "outros_furtos                   int64\n",
              "total_furtos                    int64\n",
              "sequestro                     float64\n",
              "extorsao                      float64\n",
              "sequestro_relampago           float64\n",
              "estelionato                   float64\n",
              "apreensao_drogas                int64\n",
              "posse_drogas                  float64\n",
              "trafico_drogas                float64\n",
              "apreensao_drogas_sem_autor    float64\n",
              "recuperacao_veiculos            int64\n",
              "apf                           float64\n",
              "aaapai                        float64\n",
              "cmp                           float64\n",
              "cmba                          float64\n",
              "ameaca                        float64\n",
              "pessoas_desaparecidas         float64\n",
              "encontro_cadaver                int64\n",
              "encontro_ossada               float64\n",
              "pol_militares_mortos_serv     float64\n",
              "pol_civis_mortos_serv         float64\n",
              "indicador_letalidade            int64\n",
              "indicador_roubo_rua             int64\n",
              "indicador_roubo_veic            int64\n",
              "registro_ocorrencias          float64\n",
              "fase                            int64\n",
              "dtype: object"
            ]
          },
          "metadata": {
            "tags": []
          },
          "execution_count": 5
        }
      ]
    },
    {
      "cell_type": "markdown",
      "metadata": {
        "id": "hdIWFSxuUP6l"
      },
      "source": [
        "* **As 5 primeiras linhas e 5 ultimas linhas** \n",
        "\n",
        "Visualizar quais são as 5 primeiras e 5 ultimas linhas do DataFrame possibilita entender como os dados estão representados e compreender como estão estruturados. Assim como também entender as colunas que variam entre valores nulos ou não."
      ]
    },
    {
      "cell_type": "code",
      "metadata": {
        "colab": {
          "base_uri": "https://localhost:8080/",
          "height": 224
        },
        "id": "D-QdnV_dU4gT",
        "outputId": "f33787be-69f1-43eb-ae46-edd978223d7a"
      },
      "source": [
        "# exibir as 5 primeiras entradas \n",
        "df.head()"
      ],
      "execution_count": 6,
      "outputs": [
        {
          "output_type": "execute_result",
          "data": {
            "text/html": [
              "<div>\n",
              "<style scoped>\n",
              "    .dataframe tbody tr th:only-of-type {\n",
              "        vertical-align: middle;\n",
              "    }\n",
              "\n",
              "    .dataframe tbody tr th {\n",
              "        vertical-align: top;\n",
              "    }\n",
              "\n",
              "    .dataframe thead th {\n",
              "        text-align: right;\n",
              "    }\n",
              "</style>\n",
              "<table border=\"1\" class=\"dataframe\">\n",
              "  <thead>\n",
              "    <tr style=\"text-align: right;\">\n",
              "      <th></th>\n",
              "      <th>vano</th>\n",
              "      <th>mes</th>\n",
              "      <th>hom_doloso</th>\n",
              "      <th>lesao_corp_morte</th>\n",
              "      <th>latrocinio</th>\n",
              "      <th>hom_por_interv_policial</th>\n",
              "      <th>tentat_hom</th>\n",
              "      <th>lesao_corp_dolosa</th>\n",
              "      <th>estupro</th>\n",
              "      <th>hom_culposo</th>\n",
              "      <th>lesao_corp_culposa</th>\n",
              "      <th>roubo_comercio</th>\n",
              "      <th>roubo_residencia</th>\n",
              "      <th>roubo_veiculo</th>\n",
              "      <th>roubo_carga</th>\n",
              "      <th>roubo_transeunte</th>\n",
              "      <th>roubo_em_coletivo</th>\n",
              "      <th>roubo_banco</th>\n",
              "      <th>roubo_cx_eletronico</th>\n",
              "      <th>roubo_celular</th>\n",
              "      <th>roubo_conducao_saque</th>\n",
              "      <th>roubo_apos_saque</th>\n",
              "      <th>roubo_bicicleta</th>\n",
              "      <th>outros_roubos</th>\n",
              "      <th>total_roubos</th>\n",
              "      <th>furto_veiculos</th>\n",
              "      <th>furto_transeunte</th>\n",
              "      <th>furto_coletivo</th>\n",
              "      <th>furto_celular</th>\n",
              "      <th>furto_bicicleta</th>\n",
              "      <th>outros_furtos</th>\n",
              "      <th>total_furtos</th>\n",
              "      <th>sequestro</th>\n",
              "      <th>extorsao</th>\n",
              "      <th>sequestro_relampago</th>\n",
              "      <th>estelionato</th>\n",
              "      <th>apreensao_drogas</th>\n",
              "      <th>posse_drogas</th>\n",
              "      <th>trafico_drogas</th>\n",
              "      <th>apreensao_drogas_sem_autor</th>\n",
              "      <th>recuperacao_veiculos</th>\n",
              "      <th>apf</th>\n",
              "      <th>aaapai</th>\n",
              "      <th>cmp</th>\n",
              "      <th>cmba</th>\n",
              "      <th>ameaca</th>\n",
              "      <th>pessoas_desaparecidas</th>\n",
              "      <th>encontro_cadaver</th>\n",
              "      <th>encontro_ossada</th>\n",
              "      <th>pol_militares_mortos_serv</th>\n",
              "      <th>pol_civis_mortos_serv</th>\n",
              "      <th>indicador_letalidade</th>\n",
              "      <th>indicador_roubo_rua</th>\n",
              "      <th>indicador_roubo_veic</th>\n",
              "      <th>registro_ocorrencias</th>\n",
              "      <th>fase</th>\n",
              "    </tr>\n",
              "  </thead>\n",
              "  <tbody>\n",
              "    <tr>\n",
              "      <th>0</th>\n",
              "      <td>1991</td>\n",
              "      <td>1</td>\n",
              "      <td>657</td>\n",
              "      <td>NaN</td>\n",
              "      <td>15</td>\n",
              "      <td>NaN</td>\n",
              "      <td>162</td>\n",
              "      <td>3051</td>\n",
              "      <td>NaN</td>\n",
              "      <td>NaN</td>\n",
              "      <td>NaN</td>\n",
              "      <td>350</td>\n",
              "      <td>188</td>\n",
              "      <td>1174</td>\n",
              "      <td>63</td>\n",
              "      <td>967</td>\n",
              "      <td>381</td>\n",
              "      <td>37</td>\n",
              "      <td>NaN</td>\n",
              "      <td>NaN</td>\n",
              "      <td>NaN</td>\n",
              "      <td>NaN</td>\n",
              "      <td>NaN</td>\n",
              "      <td>158</td>\n",
              "      <td>3318</td>\n",
              "      <td>2009</td>\n",
              "      <td>1147</td>\n",
              "      <td>NaN</td>\n",
              "      <td>NaN</td>\n",
              "      <td>NaN</td>\n",
              "      <td>3561</td>\n",
              "      <td>6717</td>\n",
              "      <td>NaN</td>\n",
              "      <td>NaN</td>\n",
              "      <td>NaN</td>\n",
              "      <td>NaN</td>\n",
              "      <td>133</td>\n",
              "      <td>NaN</td>\n",
              "      <td>NaN</td>\n",
              "      <td>NaN</td>\n",
              "      <td>872</td>\n",
              "      <td>NaN</td>\n",
              "      <td>NaN</td>\n",
              "      <td>NaN</td>\n",
              "      <td>NaN</td>\n",
              "      <td>NaN</td>\n",
              "      <td>NaN</td>\n",
              "      <td>217</td>\n",
              "      <td>NaN</td>\n",
              "      <td>NaN</td>\n",
              "      <td>NaN</td>\n",
              "      <td>672</td>\n",
              "      <td>1348</td>\n",
              "      <td>1174</td>\n",
              "      <td>NaN</td>\n",
              "      <td>3</td>\n",
              "    </tr>\n",
              "    <tr>\n",
              "      <th>1</th>\n",
              "      <td>1991</td>\n",
              "      <td>2</td>\n",
              "      <td>732</td>\n",
              "      <td>NaN</td>\n",
              "      <td>17</td>\n",
              "      <td>NaN</td>\n",
              "      <td>175</td>\n",
              "      <td>3421</td>\n",
              "      <td>NaN</td>\n",
              "      <td>NaN</td>\n",
              "      <td>NaN</td>\n",
              "      <td>357</td>\n",
              "      <td>171</td>\n",
              "      <td>1097</td>\n",
              "      <td>64</td>\n",
              "      <td>963</td>\n",
              "      <td>432</td>\n",
              "      <td>35</td>\n",
              "      <td>NaN</td>\n",
              "      <td>NaN</td>\n",
              "      <td>NaN</td>\n",
              "      <td>NaN</td>\n",
              "      <td>NaN</td>\n",
              "      <td>142</td>\n",
              "      <td>3261</td>\n",
              "      <td>1850</td>\n",
              "      <td>1066</td>\n",
              "      <td>NaN</td>\n",
              "      <td>NaN</td>\n",
              "      <td>NaN</td>\n",
              "      <td>3309</td>\n",
              "      <td>6225</td>\n",
              "      <td>NaN</td>\n",
              "      <td>NaN</td>\n",
              "      <td>NaN</td>\n",
              "      <td>NaN</td>\n",
              "      <td>127</td>\n",
              "      <td>NaN</td>\n",
              "      <td>NaN</td>\n",
              "      <td>NaN</td>\n",
              "      <td>751</td>\n",
              "      <td>NaN</td>\n",
              "      <td>NaN</td>\n",
              "      <td>NaN</td>\n",
              "      <td>NaN</td>\n",
              "      <td>NaN</td>\n",
              "      <td>NaN</td>\n",
              "      <td>209</td>\n",
              "      <td>NaN</td>\n",
              "      <td>NaN</td>\n",
              "      <td>NaN</td>\n",
              "      <td>749</td>\n",
              "      <td>1395</td>\n",
              "      <td>1097</td>\n",
              "      <td>NaN</td>\n",
              "      <td>3</td>\n",
              "    </tr>\n",
              "    <tr>\n",
              "      <th>2</th>\n",
              "      <td>1991</td>\n",
              "      <td>3</td>\n",
              "      <td>713</td>\n",
              "      <td>NaN</td>\n",
              "      <td>25</td>\n",
              "      <td>NaN</td>\n",
              "      <td>216</td>\n",
              "      <td>3613</td>\n",
              "      <td>NaN</td>\n",
              "      <td>NaN</td>\n",
              "      <td>NaN</td>\n",
              "      <td>443</td>\n",
              "      <td>191</td>\n",
              "      <td>1265</td>\n",
              "      <td>71</td>\n",
              "      <td>963</td>\n",
              "      <td>422</td>\n",
              "      <td>43</td>\n",
              "      <td>NaN</td>\n",
              "      <td>NaN</td>\n",
              "      <td>NaN</td>\n",
              "      <td>NaN</td>\n",
              "      <td>NaN</td>\n",
              "      <td>131</td>\n",
              "      <td>3529</td>\n",
              "      <td>2084</td>\n",
              "      <td>1062</td>\n",
              "      <td>NaN</td>\n",
              "      <td>NaN</td>\n",
              "      <td>NaN</td>\n",
              "      <td>3573</td>\n",
              "      <td>6719</td>\n",
              "      <td>NaN</td>\n",
              "      <td>NaN</td>\n",
              "      <td>NaN</td>\n",
              "      <td>NaN</td>\n",
              "      <td>80</td>\n",
              "      <td>NaN</td>\n",
              "      <td>NaN</td>\n",
              "      <td>NaN</td>\n",
              "      <td>789</td>\n",
              "      <td>NaN</td>\n",
              "      <td>NaN</td>\n",
              "      <td>NaN</td>\n",
              "      <td>NaN</td>\n",
              "      <td>NaN</td>\n",
              "      <td>NaN</td>\n",
              "      <td>188</td>\n",
              "      <td>NaN</td>\n",
              "      <td>NaN</td>\n",
              "      <td>NaN</td>\n",
              "      <td>738</td>\n",
              "      <td>1385</td>\n",
              "      <td>1265</td>\n",
              "      <td>NaN</td>\n",
              "      <td>3</td>\n",
              "    </tr>\n",
              "    <tr>\n",
              "      <th>3</th>\n",
              "      <td>1991</td>\n",
              "      <td>4</td>\n",
              "      <td>634</td>\n",
              "      <td>NaN</td>\n",
              "      <td>20</td>\n",
              "      <td>NaN</td>\n",
              "      <td>200</td>\n",
              "      <td>3211</td>\n",
              "      <td>NaN</td>\n",
              "      <td>NaN</td>\n",
              "      <td>NaN</td>\n",
              "      <td>425</td>\n",
              "      <td>199</td>\n",
              "      <td>1415</td>\n",
              "      <td>81</td>\n",
              "      <td>1186</td>\n",
              "      <td>354</td>\n",
              "      <td>36</td>\n",
              "      <td>NaN</td>\n",
              "      <td>NaN</td>\n",
              "      <td>NaN</td>\n",
              "      <td>NaN</td>\n",
              "      <td>NaN</td>\n",
              "      <td>112</td>\n",
              "      <td>3808</td>\n",
              "      <td>2085</td>\n",
              "      <td>1195</td>\n",
              "      <td>NaN</td>\n",
              "      <td>NaN</td>\n",
              "      <td>NaN</td>\n",
              "      <td>3290</td>\n",
              "      <td>6570</td>\n",
              "      <td>NaN</td>\n",
              "      <td>NaN</td>\n",
              "      <td>NaN</td>\n",
              "      <td>NaN</td>\n",
              "      <td>133</td>\n",
              "      <td>NaN</td>\n",
              "      <td>NaN</td>\n",
              "      <td>NaN</td>\n",
              "      <td>787</td>\n",
              "      <td>NaN</td>\n",
              "      <td>NaN</td>\n",
              "      <td>NaN</td>\n",
              "      <td>NaN</td>\n",
              "      <td>NaN</td>\n",
              "      <td>NaN</td>\n",
              "      <td>140</td>\n",
              "      <td>NaN</td>\n",
              "      <td>NaN</td>\n",
              "      <td>NaN</td>\n",
              "      <td>654</td>\n",
              "      <td>1540</td>\n",
              "      <td>1415</td>\n",
              "      <td>NaN</td>\n",
              "      <td>3</td>\n",
              "    </tr>\n",
              "    <tr>\n",
              "      <th>4</th>\n",
              "      <td>1991</td>\n",
              "      <td>5</td>\n",
              "      <td>650</td>\n",
              "      <td>NaN</td>\n",
              "      <td>20</td>\n",
              "      <td>NaN</td>\n",
              "      <td>146</td>\n",
              "      <td>3051</td>\n",
              "      <td>NaN</td>\n",
              "      <td>NaN</td>\n",
              "      <td>NaN</td>\n",
              "      <td>553</td>\n",
              "      <td>231</td>\n",
              "      <td>1449</td>\n",
              "      <td>82</td>\n",
              "      <td>931</td>\n",
              "      <td>335</td>\n",
              "      <td>27</td>\n",
              "      <td>NaN</td>\n",
              "      <td>NaN</td>\n",
              "      <td>NaN</td>\n",
              "      <td>NaN</td>\n",
              "      <td>NaN</td>\n",
              "      <td>147</td>\n",
              "      <td>3755</td>\n",
              "      <td>2185</td>\n",
              "      <td>723</td>\n",
              "      <td>NaN</td>\n",
              "      <td>NaN</td>\n",
              "      <td>NaN</td>\n",
              "      <td>3546</td>\n",
              "      <td>6454</td>\n",
              "      <td>NaN</td>\n",
              "      <td>NaN</td>\n",
              "      <td>NaN</td>\n",
              "      <td>NaN</td>\n",
              "      <td>163</td>\n",
              "      <td>NaN</td>\n",
              "      <td>NaN</td>\n",
              "      <td>NaN</td>\n",
              "      <td>845</td>\n",
              "      <td>NaN</td>\n",
              "      <td>NaN</td>\n",
              "      <td>NaN</td>\n",
              "      <td>NaN</td>\n",
              "      <td>NaN</td>\n",
              "      <td>NaN</td>\n",
              "      <td>78</td>\n",
              "      <td>NaN</td>\n",
              "      <td>NaN</td>\n",
              "      <td>NaN</td>\n",
              "      <td>670</td>\n",
              "      <td>1266</td>\n",
              "      <td>1449</td>\n",
              "      <td>NaN</td>\n",
              "      <td>3</td>\n",
              "    </tr>\n",
              "  </tbody>\n",
              "</table>\n",
              "</div>"
            ],
            "text/plain": [
              "   vano  mes  hom_doloso  ...  indicador_roubo_veic  registro_ocorrencias  fase\n",
              "0  1991    1         657  ...                  1174                   NaN     3\n",
              "1  1991    2         732  ...                  1097                   NaN     3\n",
              "2  1991    3         713  ...                  1265                   NaN     3\n",
              "3  1991    4         634  ...                  1415                   NaN     3\n",
              "4  1991    5         650  ...                  1449                   NaN     3\n",
              "\n",
              "[5 rows x 56 columns]"
            ]
          },
          "metadata": {
            "tags": []
          },
          "execution_count": 6
        }
      ]
    },
    {
      "cell_type": "code",
      "metadata": {
        "colab": {
          "base_uri": "https://localhost:8080/",
          "height": 224
        },
        "id": "7x8ED2FTylTk",
        "outputId": "975d2b8a-b746-43f6-ff06-a09fdf0e9a9d"
      },
      "source": [
        "# exibir as 5 ultimas entradas \n",
        "df.tail()"
      ],
      "execution_count": 7,
      "outputs": [
        {
          "output_type": "execute_result",
          "data": {
            "text/html": [
              "<div>\n",
              "<style scoped>\n",
              "    .dataframe tbody tr th:only-of-type {\n",
              "        vertical-align: middle;\n",
              "    }\n",
              "\n",
              "    .dataframe tbody tr th {\n",
              "        vertical-align: top;\n",
              "    }\n",
              "\n",
              "    .dataframe thead th {\n",
              "        text-align: right;\n",
              "    }\n",
              "</style>\n",
              "<table border=\"1\" class=\"dataframe\">\n",
              "  <thead>\n",
              "    <tr style=\"text-align: right;\">\n",
              "      <th></th>\n",
              "      <th>vano</th>\n",
              "      <th>mes</th>\n",
              "      <th>hom_doloso</th>\n",
              "      <th>lesao_corp_morte</th>\n",
              "      <th>latrocinio</th>\n",
              "      <th>hom_por_interv_policial</th>\n",
              "      <th>tentat_hom</th>\n",
              "      <th>lesao_corp_dolosa</th>\n",
              "      <th>estupro</th>\n",
              "      <th>hom_culposo</th>\n",
              "      <th>lesao_corp_culposa</th>\n",
              "      <th>roubo_comercio</th>\n",
              "      <th>roubo_residencia</th>\n",
              "      <th>roubo_veiculo</th>\n",
              "      <th>roubo_carga</th>\n",
              "      <th>roubo_transeunte</th>\n",
              "      <th>roubo_em_coletivo</th>\n",
              "      <th>roubo_banco</th>\n",
              "      <th>roubo_cx_eletronico</th>\n",
              "      <th>roubo_celular</th>\n",
              "      <th>roubo_conducao_saque</th>\n",
              "      <th>roubo_apos_saque</th>\n",
              "      <th>roubo_bicicleta</th>\n",
              "      <th>outros_roubos</th>\n",
              "      <th>total_roubos</th>\n",
              "      <th>furto_veiculos</th>\n",
              "      <th>furto_transeunte</th>\n",
              "      <th>furto_coletivo</th>\n",
              "      <th>furto_celular</th>\n",
              "      <th>furto_bicicleta</th>\n",
              "      <th>outros_furtos</th>\n",
              "      <th>total_furtos</th>\n",
              "      <th>sequestro</th>\n",
              "      <th>extorsao</th>\n",
              "      <th>sequestro_relampago</th>\n",
              "      <th>estelionato</th>\n",
              "      <th>apreensao_drogas</th>\n",
              "      <th>posse_drogas</th>\n",
              "      <th>trafico_drogas</th>\n",
              "      <th>apreensao_drogas_sem_autor</th>\n",
              "      <th>recuperacao_veiculos</th>\n",
              "      <th>apf</th>\n",
              "      <th>aaapai</th>\n",
              "      <th>cmp</th>\n",
              "      <th>cmba</th>\n",
              "      <th>ameaca</th>\n",
              "      <th>pessoas_desaparecidas</th>\n",
              "      <th>encontro_cadaver</th>\n",
              "      <th>encontro_ossada</th>\n",
              "      <th>pol_militares_mortos_serv</th>\n",
              "      <th>pol_civis_mortos_serv</th>\n",
              "      <th>indicador_letalidade</th>\n",
              "      <th>indicador_roubo_rua</th>\n",
              "      <th>indicador_roubo_veic</th>\n",
              "      <th>registro_ocorrencias</th>\n",
              "      <th>fase</th>\n",
              "    </tr>\n",
              "  </thead>\n",
              "  <tbody>\n",
              "    <tr>\n",
              "      <th>339</th>\n",
              "      <td>2019</td>\n",
              "      <td>4</td>\n",
              "      <td>360</td>\n",
              "      <td>1.0</td>\n",
              "      <td>11</td>\n",
              "      <td>124.0</td>\n",
              "      <td>466</td>\n",
              "      <td>5573</td>\n",
              "      <td>483.0</td>\n",
              "      <td>172.0</td>\n",
              "      <td>2182.0</td>\n",
              "      <td>502</td>\n",
              "      <td>124</td>\n",
              "      <td>3755</td>\n",
              "      <td>667</td>\n",
              "      <td>7031</td>\n",
              "      <td>1585</td>\n",
              "      <td>2</td>\n",
              "      <td>4.0</td>\n",
              "      <td>2424.0</td>\n",
              "      <td>10.0</td>\n",
              "      <td>82.0</td>\n",
              "      <td>23.0</td>\n",
              "      <td>2245</td>\n",
              "      <td>18454</td>\n",
              "      <td>1244</td>\n",
              "      <td>1519</td>\n",
              "      <td>607.0</td>\n",
              "      <td>1318.0</td>\n",
              "      <td>211.0</td>\n",
              "      <td>7633</td>\n",
              "      <td>12532</td>\n",
              "      <td>0.0</td>\n",
              "      <td>151.0</td>\n",
              "      <td>11.0</td>\n",
              "      <td>3260.0</td>\n",
              "      <td>1909</td>\n",
              "      <td>745.0</td>\n",
              "      <td>1021.0</td>\n",
              "      <td>187.0</td>\n",
              "      <td>2624</td>\n",
              "      <td>3128.0</td>\n",
              "      <td>497.0</td>\n",
              "      <td>1648.0</td>\n",
              "      <td>350.0</td>\n",
              "      <td>5310.0</td>\n",
              "      <td>408.0</td>\n",
              "      <td>22</td>\n",
              "      <td>3.0</td>\n",
              "      <td>1.0</td>\n",
              "      <td>0.0</td>\n",
              "      <td>496</td>\n",
              "      <td>11040</td>\n",
              "      <td>3755</td>\n",
              "      <td>67797.0</td>\n",
              "      <td>3</td>\n",
              "    </tr>\n",
              "    <tr>\n",
              "      <th>340</th>\n",
              "      <td>2019</td>\n",
              "      <td>5</td>\n",
              "      <td>345</td>\n",
              "      <td>2.0</td>\n",
              "      <td>15</td>\n",
              "      <td>172.0</td>\n",
              "      <td>478</td>\n",
              "      <td>4958</td>\n",
              "      <td>465.0</td>\n",
              "      <td>145.0</td>\n",
              "      <td>2304.0</td>\n",
              "      <td>514</td>\n",
              "      <td>93</td>\n",
              "      <td>3649</td>\n",
              "      <td>710</td>\n",
              "      <td>7332</td>\n",
              "      <td>1625</td>\n",
              "      <td>1</td>\n",
              "      <td>3.0</td>\n",
              "      <td>2427.0</td>\n",
              "      <td>9.0</td>\n",
              "      <td>87.0</td>\n",
              "      <td>7.0</td>\n",
              "      <td>2216</td>\n",
              "      <td>18673</td>\n",
              "      <td>1480</td>\n",
              "      <td>1475</td>\n",
              "      <td>715.0</td>\n",
              "      <td>1423.0</td>\n",
              "      <td>220.0</td>\n",
              "      <td>7711</td>\n",
              "      <td>13024</td>\n",
              "      <td>0.0</td>\n",
              "      <td>147.0</td>\n",
              "      <td>7.0</td>\n",
              "      <td>3498.0</td>\n",
              "      <td>2034</td>\n",
              "      <td>735.0</td>\n",
              "      <td>1133.0</td>\n",
              "      <td>199.0</td>\n",
              "      <td>2450</td>\n",
              "      <td>3169.0</td>\n",
              "      <td>527.0</td>\n",
              "      <td>1771.0</td>\n",
              "      <td>248.0</td>\n",
              "      <td>5068.0</td>\n",
              "      <td>390.0</td>\n",
              "      <td>20</td>\n",
              "      <td>1.0</td>\n",
              "      <td>0.0</td>\n",
              "      <td>0.0</td>\n",
              "      <td>534</td>\n",
              "      <td>11384</td>\n",
              "      <td>3649</td>\n",
              "      <td>68336.0</td>\n",
              "      <td>3</td>\n",
              "    </tr>\n",
              "    <tr>\n",
              "      <th>341</th>\n",
              "      <td>2019</td>\n",
              "      <td>6</td>\n",
              "      <td>332</td>\n",
              "      <td>3.0</td>\n",
              "      <td>8</td>\n",
              "      <td>153.0</td>\n",
              "      <td>436</td>\n",
              "      <td>4769</td>\n",
              "      <td>414.0</td>\n",
              "      <td>152.0</td>\n",
              "      <td>2481.0</td>\n",
              "      <td>382</td>\n",
              "      <td>85</td>\n",
              "      <td>3115</td>\n",
              "      <td>599</td>\n",
              "      <td>6077</td>\n",
              "      <td>1287</td>\n",
              "      <td>1</td>\n",
              "      <td>4.0</td>\n",
              "      <td>2187.0</td>\n",
              "      <td>19.0</td>\n",
              "      <td>83.0</td>\n",
              "      <td>9.0</td>\n",
              "      <td>1984</td>\n",
              "      <td>15832</td>\n",
              "      <td>1251</td>\n",
              "      <td>1443</td>\n",
              "      <td>630.0</td>\n",
              "      <td>1345.0</td>\n",
              "      <td>189.0</td>\n",
              "      <td>7224</td>\n",
              "      <td>12082</td>\n",
              "      <td>0.0</td>\n",
              "      <td>133.0</td>\n",
              "      <td>6.0</td>\n",
              "      <td>3029.0</td>\n",
              "      <td>1854</td>\n",
              "      <td>763.0</td>\n",
              "      <td>976.0</td>\n",
              "      <td>158.0</td>\n",
              "      <td>2041</td>\n",
              "      <td>2848.0</td>\n",
              "      <td>467.0</td>\n",
              "      <td>1585.0</td>\n",
              "      <td>233.0</td>\n",
              "      <td>4497.0</td>\n",
              "      <td>403.0</td>\n",
              "      <td>20</td>\n",
              "      <td>1.0</td>\n",
              "      <td>3.0</td>\n",
              "      <td>0.0</td>\n",
              "      <td>496</td>\n",
              "      <td>9551</td>\n",
              "      <td>3115</td>\n",
              "      <td>61202.0</td>\n",
              "      <td>3</td>\n",
              "    </tr>\n",
              "    <tr>\n",
              "      <th>342</th>\n",
              "      <td>2019</td>\n",
              "      <td>7</td>\n",
              "      <td>309</td>\n",
              "      <td>5.0</td>\n",
              "      <td>10</td>\n",
              "      <td>194.0</td>\n",
              "      <td>399</td>\n",
              "      <td>4740</td>\n",
              "      <td>402.0</td>\n",
              "      <td>140.0</td>\n",
              "      <td>2334.0</td>\n",
              "      <td>386</td>\n",
              "      <td>72</td>\n",
              "      <td>3198</td>\n",
              "      <td>691</td>\n",
              "      <td>6637</td>\n",
              "      <td>1208</td>\n",
              "      <td>1</td>\n",
              "      <td>0.0</td>\n",
              "      <td>2226.0</td>\n",
              "      <td>12.0</td>\n",
              "      <td>97.0</td>\n",
              "      <td>16.0</td>\n",
              "      <td>2110</td>\n",
              "      <td>16654</td>\n",
              "      <td>1353</td>\n",
              "      <td>1570</td>\n",
              "      <td>746.0</td>\n",
              "      <td>1391.0</td>\n",
              "      <td>230.0</td>\n",
              "      <td>7632</td>\n",
              "      <td>12922</td>\n",
              "      <td>0.0</td>\n",
              "      <td>135.0</td>\n",
              "      <td>12.0</td>\n",
              "      <td>3627.0</td>\n",
              "      <td>1861</td>\n",
              "      <td>709.0</td>\n",
              "      <td>996.0</td>\n",
              "      <td>187.0</td>\n",
              "      <td>2355</td>\n",
              "      <td>2907.0</td>\n",
              "      <td>490.0</td>\n",
              "      <td>1856.0</td>\n",
              "      <td>267.0</td>\n",
              "      <td>4678.0</td>\n",
              "      <td>400.0</td>\n",
              "      <td>32</td>\n",
              "      <td>7.0</td>\n",
              "      <td>0.0</td>\n",
              "      <td>0.0</td>\n",
              "      <td>518</td>\n",
              "      <td>10071</td>\n",
              "      <td>3198</td>\n",
              "      <td>65817.0</td>\n",
              "      <td>2</td>\n",
              "    </tr>\n",
              "    <tr>\n",
              "      <th>343</th>\n",
              "      <td>2019</td>\n",
              "      <td>8</td>\n",
              "      <td>318</td>\n",
              "      <td>1.0</td>\n",
              "      <td>6</td>\n",
              "      <td>170.0</td>\n",
              "      <td>457</td>\n",
              "      <td>4760</td>\n",
              "      <td>460.0</td>\n",
              "      <td>156.0</td>\n",
              "      <td>2437.0</td>\n",
              "      <td>433</td>\n",
              "      <td>103</td>\n",
              "      <td>3181</td>\n",
              "      <td>587</td>\n",
              "      <td>6452</td>\n",
              "      <td>1215</td>\n",
              "      <td>1</td>\n",
              "      <td>1.0</td>\n",
              "      <td>2245.0</td>\n",
              "      <td>9.0</td>\n",
              "      <td>98.0</td>\n",
              "      <td>17.0</td>\n",
              "      <td>1794</td>\n",
              "      <td>16136</td>\n",
              "      <td>1361</td>\n",
              "      <td>1568</td>\n",
              "      <td>674.0</td>\n",
              "      <td>1534.0</td>\n",
              "      <td>185.0</td>\n",
              "      <td>7280</td>\n",
              "      <td>12602</td>\n",
              "      <td>0.0</td>\n",
              "      <td>132.0</td>\n",
              "      <td>12.0</td>\n",
              "      <td>3546.0</td>\n",
              "      <td>1862</td>\n",
              "      <td>668.0</td>\n",
              "      <td>1067.0</td>\n",
              "      <td>171.0</td>\n",
              "      <td>2081</td>\n",
              "      <td>3114.0</td>\n",
              "      <td>476.0</td>\n",
              "      <td>2028.0</td>\n",
              "      <td>265.0</td>\n",
              "      <td>4662.0</td>\n",
              "      <td>367.0</td>\n",
              "      <td>27</td>\n",
              "      <td>8.0</td>\n",
              "      <td>2.0</td>\n",
              "      <td>0.0</td>\n",
              "      <td>495</td>\n",
              "      <td>9912</td>\n",
              "      <td>3181</td>\n",
              "      <td>65285.0</td>\n",
              "      <td>2</td>\n",
              "    </tr>\n",
              "  </tbody>\n",
              "</table>\n",
              "</div>"
            ],
            "text/plain": [
              "     vano  mes  hom_doloso  ...  indicador_roubo_veic  registro_ocorrencias  fase\n",
              "339  2019    4         360  ...                  3755               67797.0     3\n",
              "340  2019    5         345  ...                  3649               68336.0     3\n",
              "341  2019    6         332  ...                  3115               61202.0     3\n",
              "342  2019    7         309  ...                  3198               65817.0     2\n",
              "343  2019    8         318  ...                  3181               65285.0     2\n",
              "\n",
              "[5 rows x 56 columns]"
            ]
          },
          "metadata": {
            "tags": []
          },
          "execution_count": 7
        }
      ]
    },
    {
      "cell_type": "markdown",
      "metadata": {
        "id": "Raj1TfIuVhZ2"
      },
      "source": [
        "* **Porcentagem de valores ausentes das colunas**\n",
        "\n",
        "É importante entender a quantidade dos valores nulos de cada coluna do dataset, visto que estes influenciam diretamente a qualidade dos dados e necessitam serem tratados em alguns casos para que não interfiram no resultado da análise.\n",
        "\n",
        "Abaixo estão apresentadas a colunas com a quantidade dos valores ausentes e em seguida a porcentagem que representa estes valores para cada coluna."
      ]
    },
    {
      "cell_type": "code",
      "metadata": {
        "colab": {
          "base_uri": "https://localhost:8080/"
        },
        "id": "XcSzmAC9Wqgu",
        "outputId": "44d0c705-5d18-48c9-d267-6c863c7a694f"
      },
      "source": [
        "# exibir as colunas que possuem valores ausentes e a quantidade\n",
        "df.isnull().sum()"
      ],
      "execution_count": 8,
      "outputs": [
        {
          "output_type": "execute_result",
          "data": {
            "text/plain": [
              "vano                            0\n",
              "mes                             0\n",
              "hom_doloso                      0\n",
              "lesao_corp_morte               96\n",
              "latrocinio                      0\n",
              "hom_por_interv_policial        84\n",
              "tentat_hom                      0\n",
              "lesao_corp_dolosa               0\n",
              "estupro                       144\n",
              "hom_culposo                    84\n",
              "lesao_corp_culposa             96\n",
              "roubo_comercio                  0\n",
              "roubo_residencia                0\n",
              "roubo_veiculo                   0\n",
              "roubo_carga                     0\n",
              "roubo_transeunte                0\n",
              "roubo_em_coletivo               0\n",
              "roubo_banco                     0\n",
              "roubo_cx_eletronico           144\n",
              "roubo_celular                 108\n",
              "roubo_conducao_saque          144\n",
              "roubo_apos_saque              144\n",
              "roubo_bicicleta               276\n",
              "outros_roubos                   0\n",
              "total_roubos                    0\n",
              "furto_veiculos                  0\n",
              "furto_transeunte                0\n",
              "furto_coletivo                144\n",
              "furto_celular                 144\n",
              "furto_bicicleta               276\n",
              "outros_furtos                   0\n",
              "total_furtos                    0\n",
              "sequestro                      96\n",
              "extorsao                      144\n",
              "sequestro_relampago           144\n",
              "estelionato                   144\n",
              "apreensao_drogas                0\n",
              "posse_drogas                  180\n",
              "trafico_drogas                180\n",
              "apreensao_drogas_sem_autor    180\n",
              "recuperacao_veiculos            0\n",
              "apf                           180\n",
              "aaapai                        180\n",
              "cmp                           180\n",
              "cmba                          180\n",
              "ameaca                         96\n",
              "pessoas_desaparecidas         132\n",
              "encontro_cadaver                0\n",
              "encontro_ossada               132\n",
              "pol_militares_mortos_serv     144\n",
              "pol_civis_mortos_serv         144\n",
              "indicador_letalidade            0\n",
              "indicador_roubo_rua             0\n",
              "indicador_roubo_veic            0\n",
              "registro_ocorrencias           96\n",
              "fase                            0\n",
              "dtype: int64"
            ]
          },
          "metadata": {
            "tags": []
          },
          "execution_count": 8
        }
      ]
    },
    {
      "cell_type": "code",
      "metadata": {
        "colab": {
          "base_uri": "https://localhost:8080/"
        },
        "id": "vYrKizn7WfH0",
        "outputId": "833c6158-0103-4cc9-c622-e294cbb9ee21"
      },
      "source": [
        "# exibir em ordem decrescente as variáveis por seus valores ausentes e a porcentagem\n",
        "(df.isnull().sum() / df.shape[0]).sort_values(ascending=False)"
      ],
      "execution_count": 9,
      "outputs": [
        {
          "output_type": "execute_result",
          "data": {
            "text/plain": [
              "roubo_bicicleta               0.802326\n",
              "furto_bicicleta               0.802326\n",
              "apreensao_drogas_sem_autor    0.523256\n",
              "posse_drogas                  0.523256\n",
              "apf                           0.523256\n",
              "aaapai                        0.523256\n",
              "cmp                           0.523256\n",
              "trafico_drogas                0.523256\n",
              "cmba                          0.523256\n",
              "sequestro_relampago           0.418605\n",
              "furto_coletivo                0.418605\n",
              "extorsao                      0.418605\n",
              "furto_celular                 0.418605\n",
              "roubo_apos_saque              0.418605\n",
              "roubo_conducao_saque          0.418605\n",
              "roubo_cx_eletronico           0.418605\n",
              "estupro                       0.418605\n",
              "estelionato                   0.418605\n",
              "pol_civis_mortos_serv         0.418605\n",
              "pol_militares_mortos_serv     0.418605\n",
              "pessoas_desaparecidas         0.383721\n",
              "encontro_ossada               0.383721\n",
              "roubo_celular                 0.313953\n",
              "lesao_corp_culposa            0.279070\n",
              "ameaca                        0.279070\n",
              "sequestro                     0.279070\n",
              "lesao_corp_morte              0.279070\n",
              "registro_ocorrencias          0.279070\n",
              "hom_por_interv_policial       0.244186\n",
              "hom_culposo                   0.244186\n",
              "tentat_hom                    0.000000\n",
              "roubo_comercio                0.000000\n",
              "roubo_residencia              0.000000\n",
              "latrocinio                    0.000000\n",
              "lesao_corp_dolosa             0.000000\n",
              "hom_doloso                    0.000000\n",
              "roubo_transeunte              0.000000\n",
              "mes                           0.000000\n",
              "roubo_veiculo                 0.000000\n",
              "roubo_carga                   0.000000\n",
              "fase                          0.000000\n",
              "roubo_em_coletivo             0.000000\n",
              "roubo_banco                   0.000000\n",
              "outros_roubos                 0.000000\n",
              "total_roubos                  0.000000\n",
              "furto_veiculos                0.000000\n",
              "furto_transeunte              0.000000\n",
              "outros_furtos                 0.000000\n",
              "total_furtos                  0.000000\n",
              "apreensao_drogas              0.000000\n",
              "recuperacao_veiculos          0.000000\n",
              "encontro_cadaver              0.000000\n",
              "indicador_letalidade          0.000000\n",
              "indicador_roubo_rua           0.000000\n",
              "indicador_roubo_veic          0.000000\n",
              "vano                          0.000000\n",
              "dtype: float64"
            ]
          },
          "metadata": {
            "tags": []
          },
          "execution_count": 9
        }
      ]
    },
    {
      "cell_type": "markdown",
      "metadata": {
        "id": "jScPriaxRTWy"
      },
      "source": [
        "## Seleção dos Dados\n",
        "\n",
        "A análise inicial permitiu a compreensão de alguns aspectos importantes do conjunto de dados. Um ponto bastante relevante, são as colunas que possuem valores nulos, pois eles estão fortemente ligados a qualidade do *dataset*. Nesse caso de estudo a ocorrência de valores nulos variam de acordo com vários tipos de contextos distintos, por exemplo, as entradas sobre os tipos de crimes estão resgistradas mensalmente a partir do ano de 1991 até o ano de 2019 e percebe-se alguns tipos de crimes que possuem grande quantidade de valores ausentes como no caso de `roubo_bicicleta` e `furto_bicicleta`, esses dois tipos anteriormente eram enquadrados em outra modalidade de crime e nos anos mais recentes passaram a serem registrados individualmente, por isso a explicação da grande quantidade de valores ausentes nos primeiros anos. \n",
        "\n",
        "Visto que o *dataset* possui uma grande quantidade de variáveis, para essa análise será considerado apenas alguns tipos de crimes importantes que possuem todas as entradas registradas. \n",
        "\n",
        "**Para isso, criamos uma cópia resumida do *DataFrame* apenas com os crimes desejados.**"
      ]
    },
    {
      "cell_type": "code",
      "metadata": {
        "id": "2kBTdpiSZbHi"
      },
      "source": [
        "# criar copia resumida do dataframe\n",
        "df_copy = pd.DataFrame()\n",
        "df_copy[[\"vano\", \"mes\", \"hom_doloso\", \"roubo_veiculo\", \"furto_veiculos\", \"recuperacao_veiculos\", \"roubo_em_coletivo\"]] = df[[\"vano\", \"mes\", \"hom_doloso\", \"roubo_veiculo\", \"furto_veiculos\", \"recuperacao_veiculos\", \"roubo_em_coletivo\"]]"
      ],
      "execution_count": 10,
      "outputs": []
    },
    {
      "cell_type": "code",
      "metadata": {
        "colab": {
          "base_uri": "https://localhost:8080/",
          "height": 204
        },
        "id": "q3-w3gA-cOGx",
        "outputId": "46173a61-452d-41e8-9cf6-38f59f5c4d34"
      },
      "source": [
        "# exibir as 5 primeiras entradas do novo dataframe\n",
        "df_copy.head()"
      ],
      "execution_count": 11,
      "outputs": [
        {
          "output_type": "execute_result",
          "data": {
            "text/html": [
              "<div>\n",
              "<style scoped>\n",
              "    .dataframe tbody tr th:only-of-type {\n",
              "        vertical-align: middle;\n",
              "    }\n",
              "\n",
              "    .dataframe tbody tr th {\n",
              "        vertical-align: top;\n",
              "    }\n",
              "\n",
              "    .dataframe thead th {\n",
              "        text-align: right;\n",
              "    }\n",
              "</style>\n",
              "<table border=\"1\" class=\"dataframe\">\n",
              "  <thead>\n",
              "    <tr style=\"text-align: right;\">\n",
              "      <th></th>\n",
              "      <th>vano</th>\n",
              "      <th>mes</th>\n",
              "      <th>hom_doloso</th>\n",
              "      <th>roubo_veiculo</th>\n",
              "      <th>furto_veiculos</th>\n",
              "      <th>recuperacao_veiculos</th>\n",
              "      <th>roubo_em_coletivo</th>\n",
              "    </tr>\n",
              "  </thead>\n",
              "  <tbody>\n",
              "    <tr>\n",
              "      <th>0</th>\n",
              "      <td>1991</td>\n",
              "      <td>1</td>\n",
              "      <td>657</td>\n",
              "      <td>1174</td>\n",
              "      <td>2009</td>\n",
              "      <td>872</td>\n",
              "      <td>381</td>\n",
              "    </tr>\n",
              "    <tr>\n",
              "      <th>1</th>\n",
              "      <td>1991</td>\n",
              "      <td>2</td>\n",
              "      <td>732</td>\n",
              "      <td>1097</td>\n",
              "      <td>1850</td>\n",
              "      <td>751</td>\n",
              "      <td>432</td>\n",
              "    </tr>\n",
              "    <tr>\n",
              "      <th>2</th>\n",
              "      <td>1991</td>\n",
              "      <td>3</td>\n",
              "      <td>713</td>\n",
              "      <td>1265</td>\n",
              "      <td>2084</td>\n",
              "      <td>789</td>\n",
              "      <td>422</td>\n",
              "    </tr>\n",
              "    <tr>\n",
              "      <th>3</th>\n",
              "      <td>1991</td>\n",
              "      <td>4</td>\n",
              "      <td>634</td>\n",
              "      <td>1415</td>\n",
              "      <td>2085</td>\n",
              "      <td>787</td>\n",
              "      <td>354</td>\n",
              "    </tr>\n",
              "    <tr>\n",
              "      <th>4</th>\n",
              "      <td>1991</td>\n",
              "      <td>5</td>\n",
              "      <td>650</td>\n",
              "      <td>1449</td>\n",
              "      <td>2185</td>\n",
              "      <td>845</td>\n",
              "      <td>335</td>\n",
              "    </tr>\n",
              "  </tbody>\n",
              "</table>\n",
              "</div>"
            ],
            "text/plain": [
              "   vano  mes  ...  recuperacao_veiculos  roubo_em_coletivo\n",
              "0  1991    1  ...                   872                381\n",
              "1  1991    2  ...                   751                432\n",
              "2  1991    3  ...                   789                422\n",
              "3  1991    4  ...                   787                354\n",
              "4  1991    5  ...                   845                335\n",
              "\n",
              "[5 rows x 7 columns]"
            ]
          },
          "metadata": {
            "tags": []
          },
          "execution_count": 11
        }
      ]
    },
    {
      "cell_type": "markdown",
      "metadata": {
        "id": "G6dnsNYm-41g"
      },
      "source": [
        "## Informações Estatísticas da Violência no Rio de Janeiro\n",
        "\n",
        "Nesta etapa é possível extrair e identificar alguns valores estatísticos do conjunto de dados e analisar informações em números sobre os casos de violência."
      ]
    },
    {
      "cell_type": "markdown",
      "metadata": {
        "id": "F58GbTNwvW4J"
      },
      "source": [
        "* **Visualizar o resumo estatístico do DataFrame** \n",
        "\n",
        "A seguir é demonstrado os valores estatísticos referentes a cada coluna do *dataset*. \n"
      ]
    },
    {
      "cell_type": "code",
      "metadata": {
        "colab": {
          "base_uri": "https://localhost:8080/",
          "height": 297
        },
        "id": "I_VPOzFRvY1G",
        "outputId": "6889a6d8-edc7-4638-eff8-365a27eacd06"
      },
      "source": [
        "# exibir resumo estatístico\n",
        "df_copy.describe()"
      ],
      "execution_count": 12,
      "outputs": [
        {
          "output_type": "execute_result",
          "data": {
            "text/html": [
              "<div>\n",
              "<style scoped>\n",
              "    .dataframe tbody tr th:only-of-type {\n",
              "        vertical-align: middle;\n",
              "    }\n",
              "\n",
              "    .dataframe tbody tr th {\n",
              "        vertical-align: top;\n",
              "    }\n",
              "\n",
              "    .dataframe thead th {\n",
              "        text-align: right;\n",
              "    }\n",
              "</style>\n",
              "<table border=\"1\" class=\"dataframe\">\n",
              "  <thead>\n",
              "    <tr style=\"text-align: right;\">\n",
              "      <th></th>\n",
              "      <th>vano</th>\n",
              "      <th>mes</th>\n",
              "      <th>hom_doloso</th>\n",
              "      <th>roubo_veiculo</th>\n",
              "      <th>furto_veiculos</th>\n",
              "      <th>recuperacao_veiculos</th>\n",
              "      <th>roubo_em_coletivo</th>\n",
              "    </tr>\n",
              "  </thead>\n",
              "  <tbody>\n",
              "    <tr>\n",
              "      <th>count</th>\n",
              "      <td>344.000000</td>\n",
              "      <td>344.000000</td>\n",
              "      <td>344.000000</td>\n",
              "      <td>344.000000</td>\n",
              "      <td>344.000000</td>\n",
              "      <td>344.000000</td>\n",
              "      <td>344.000000</td>\n",
              "    </tr>\n",
              "    <tr>\n",
              "      <th>mean</th>\n",
              "      <td>2004.837209</td>\n",
              "      <td>6.453488</td>\n",
              "      <td>504.555233</td>\n",
              "      <td>2448.697674</td>\n",
              "      <td>1674.671512</td>\n",
              "      <td>1772.238372</td>\n",
              "      <td>659.002907</td>\n",
              "    </tr>\n",
              "    <tr>\n",
              "      <th>std</th>\n",
              "      <td>8.289036</td>\n",
              "      <td>3.447759</td>\n",
              "      <td>113.774481</td>\n",
              "      <td>789.689559</td>\n",
              "      <td>294.852020</td>\n",
              "      <td>656.761843</td>\n",
              "      <td>297.622342</td>\n",
              "    </tr>\n",
              "    <tr>\n",
              "      <th>min</th>\n",
              "      <td>1991.000000</td>\n",
              "      <td>1.000000</td>\n",
              "      <td>272.000000</td>\n",
              "      <td>1097.000000</td>\n",
              "      <td>1159.000000</td>\n",
              "      <td>729.000000</td>\n",
              "      <td>281.000000</td>\n",
              "    </tr>\n",
              "    <tr>\n",
              "      <th>25%</th>\n",
              "      <td>1998.000000</td>\n",
              "      <td>3.000000</td>\n",
              "      <td>413.750000</td>\n",
              "      <td>1889.750000</td>\n",
              "      <td>1430.500000</td>\n",
              "      <td>1276.750000</td>\n",
              "      <td>430.750000</td>\n",
              "    </tr>\n",
              "    <tr>\n",
              "      <th>50%</th>\n",
              "      <td>2005.000000</td>\n",
              "      <td>6.000000</td>\n",
              "      <td>507.000000</td>\n",
              "      <td>2322.000000</td>\n",
              "      <td>1637.500000</td>\n",
              "      <td>1755.000000</td>\n",
              "      <td>592.000000</td>\n",
              "    </tr>\n",
              "    <tr>\n",
              "      <th>75%</th>\n",
              "      <td>2012.000000</td>\n",
              "      <td>9.000000</td>\n",
              "      <td>577.250000</td>\n",
              "      <td>2778.000000</td>\n",
              "      <td>1833.250000</td>\n",
              "      <td>2202.000000</td>\n",
              "      <td>784.000000</td>\n",
              "    </tr>\n",
              "    <tr>\n",
              "      <th>max</th>\n",
              "      <td>2019.000000</td>\n",
              "      <td>12.000000</td>\n",
              "      <td>831.000000</td>\n",
              "      <td>5358.000000</td>\n",
              "      <td>2630.000000</td>\n",
              "      <td>3695.000000</td>\n",
              "      <td>1628.000000</td>\n",
              "    </tr>\n",
              "  </tbody>\n",
              "</table>\n",
              "</div>"
            ],
            "text/plain": [
              "              vano         mes  ...  recuperacao_veiculos  roubo_em_coletivo\n",
              "count   344.000000  344.000000  ...            344.000000         344.000000\n",
              "mean   2004.837209    6.453488  ...           1772.238372         659.002907\n",
              "std       8.289036    3.447759  ...            656.761843         297.622342\n",
              "min    1991.000000    1.000000  ...            729.000000         281.000000\n",
              "25%    1998.000000    3.000000  ...           1276.750000         430.750000\n",
              "50%    2005.000000    6.000000  ...           1755.000000         592.000000\n",
              "75%    2012.000000    9.000000  ...           2202.000000         784.000000\n",
              "max    2019.000000   12.000000  ...           3695.000000        1628.000000\n",
              "\n",
              "[8 rows x 7 columns]"
            ]
          },
          "metadata": {
            "tags": []
          },
          "execution_count": 12
        }
      ]
    },
    {
      "cell_type": "markdown",
      "metadata": {
        "id": "RHoypn9nkVaO"
      },
      "source": [
        "`count` - Representa a contagem das entradas para cada coluna do dataset, então as variáveis que possuem o valor igual a 344 não contêm dados ausentes, já nas colunas que possuem valor inferior a 344, indica a existência de valores nulos.\n",
        "\n",
        "`mean` - Representa a média dos valores de entrada para cada coluna.\n",
        "\n",
        "`sdt` - Representa o desvio padrão das entradas.\n",
        "\n",
        "`min` e `max` - Representam os valores mínimos e máximos respectivamente das entradas para as colunas. Nas colunas `vano` e `mes` nota-se os valores mínimos de 1991 e 1, e os valores máximos de 2019 e 12, o que significa que estes dados foram coletados mensalmente do ano de 1991 até 2019. \n",
        "\n",
        "`25%`, `50%` e `75%` - Representam percentuais sobre o total dos valores de entradas das colunas. Por exemplo `50%` representa a metade dos valores."
      ]
    },
    {
      "cell_type": "markdown",
      "metadata": {
        "id": "nwuuU3R8vm8E"
      },
      "source": [
        "* **Visualizar as médias das seguintes variáveis (colunas):**\n",
        "  * `roubo_veiculo`\n",
        "  * `furto_veiculos`\n",
        "  * `recuperacao_veiculos`"
      ]
    },
    {
      "cell_type": "markdown",
      "metadata": {
        "id": "Zyo8dWWDsOuX"
      },
      "source": [
        "**Roubo de Veículos** - A diante observa-se as informações estatísticas da coluna `roubo_veiculo` em que nota-se a média (`mean`) dos valores que é equivalente a 2448. Comparando com o valor mínimo, o valor máximo e a mediana dos valores em `50%`, é notável a ausência de valores nulos e também a ausência de *outliers* para essa coluna.\n",
        "\n",
        "O gráfico de linhas posterior permite uma melhor visualização, em que nota-se um aumento dos casos de roubo de veículo nas ultimas entradas, ou seja, nos últimos anos. "
      ]
    },
    {
      "cell_type": "code",
      "metadata": {
        "colab": {
          "base_uri": "https://localhost:8080/",
          "height": 297
        },
        "id": "1aRYcNa0xa6A",
        "outputId": "30466576-1c5b-45a0-e603-cbf3c51b4304"
      },
      "source": [
        "# exibir dados da coluna roubo_veiculo\n",
        "df_copy[[\"roubo_veiculo\"]].describe()"
      ],
      "execution_count": 13,
      "outputs": [
        {
          "output_type": "execute_result",
          "data": {
            "text/html": [
              "<div>\n",
              "<style scoped>\n",
              "    .dataframe tbody tr th:only-of-type {\n",
              "        vertical-align: middle;\n",
              "    }\n",
              "\n",
              "    .dataframe tbody tr th {\n",
              "        vertical-align: top;\n",
              "    }\n",
              "\n",
              "    .dataframe thead th {\n",
              "        text-align: right;\n",
              "    }\n",
              "</style>\n",
              "<table border=\"1\" class=\"dataframe\">\n",
              "  <thead>\n",
              "    <tr style=\"text-align: right;\">\n",
              "      <th></th>\n",
              "      <th>roubo_veiculo</th>\n",
              "    </tr>\n",
              "  </thead>\n",
              "  <tbody>\n",
              "    <tr>\n",
              "      <th>count</th>\n",
              "      <td>344.000000</td>\n",
              "    </tr>\n",
              "    <tr>\n",
              "      <th>mean</th>\n",
              "      <td>2448.697674</td>\n",
              "    </tr>\n",
              "    <tr>\n",
              "      <th>std</th>\n",
              "      <td>789.689559</td>\n",
              "    </tr>\n",
              "    <tr>\n",
              "      <th>min</th>\n",
              "      <td>1097.000000</td>\n",
              "    </tr>\n",
              "    <tr>\n",
              "      <th>25%</th>\n",
              "      <td>1889.750000</td>\n",
              "    </tr>\n",
              "    <tr>\n",
              "      <th>50%</th>\n",
              "      <td>2322.000000</td>\n",
              "    </tr>\n",
              "    <tr>\n",
              "      <th>75%</th>\n",
              "      <td>2778.000000</td>\n",
              "    </tr>\n",
              "    <tr>\n",
              "      <th>max</th>\n",
              "      <td>5358.000000</td>\n",
              "    </tr>\n",
              "  </tbody>\n",
              "</table>\n",
              "</div>"
            ],
            "text/plain": [
              "       roubo_veiculo\n",
              "count     344.000000\n",
              "mean     2448.697674\n",
              "std       789.689559\n",
              "min      1097.000000\n",
              "25%      1889.750000\n",
              "50%      2322.000000\n",
              "75%      2778.000000\n",
              "max      5358.000000"
            ]
          },
          "metadata": {
            "tags": []
          },
          "execution_count": 13
        }
      ]
    },
    {
      "cell_type": "code",
      "metadata": {
        "colab": {
          "base_uri": "https://localhost:8080/",
          "height": 265
        },
        "id": "KWssXvKUumpP",
        "outputId": "048db96d-0164-4b58-e407-1999590292c0"
      },
      "source": [
        "# exibir gráfico da coluna roubo_veiculo\n",
        "df_copy[[\"roubo_veiculo\"]].plot();"
      ],
      "execution_count": 14,
      "outputs": [
        {
          "output_type": "display_data",
          "data": {
            "image/png": "[encoded data removed]",
            "text/plain": [
              "<Figure size 432x288 with 1 Axes>"
            ]
          },
          "metadata": {
            "tags": [],
            "needs_background": "light"
          }
        }
      ]
    },
    {
      "cell_type": "markdown",
      "metadata": {
        "id": "6rHZ4JjSwE9P"
      },
      "source": [
        "**Furto de Veículos** - Para a coluna `furto_veiculos`, nos dados estatísticos observa-se também a ausência de valores nulos como também a ausência de *outliers*, pois existe uma correlação similiar entre a média (`mean`) e a mediana(`50%`) como também os valores mínimos e máximos estão condizentes. A média é representada por 1674.\n",
        "\n",
        "No gráfico apresentado adiante, nota-se que nos primeiros anos as ocorrências dos casos de furto de veículos eram bem maiores que nos últimos anos, pois os casos tenderam a diminuir. \n",
        "\n",
        "Levando em consideração aos dados de **roubo de veículos** e **furto de veículos**, fazendo um paralelo entre os dois casos de crimes, é identificado que a medida que um aumentou o outro tendeu a diminuir respectivamente."
      ]
    },
    {
      "cell_type": "code",
      "metadata": {
        "colab": {
          "base_uri": "https://localhost:8080/",
          "height": 297
        },
        "id": "57chzva9xatK",
        "outputId": "ceb85866-b806-45f7-daab-fd65dcd928e9"
      },
      "source": [
        "# exibir dados da coluna furto_veiculos\n",
        "df_copy[[\"furto_veiculos\"]].describe()"
      ],
      "execution_count": 15,
      "outputs": [
        {
          "output_type": "execute_result",
          "data": {
            "text/html": [
              "<div>\n",
              "<style scoped>\n",
              "    .dataframe tbody tr th:only-of-type {\n",
              "        vertical-align: middle;\n",
              "    }\n",
              "\n",
              "    .dataframe tbody tr th {\n",
              "        vertical-align: top;\n",
              "    }\n",
              "\n",
              "    .dataframe thead th {\n",
              "        text-align: right;\n",
              "    }\n",
              "</style>\n",
              "<table border=\"1\" class=\"dataframe\">\n",
              "  <thead>\n",
              "    <tr style=\"text-align: right;\">\n",
              "      <th></th>\n",
              "      <th>furto_veiculos</th>\n",
              "    </tr>\n",
              "  </thead>\n",
              "  <tbody>\n",
              "    <tr>\n",
              "      <th>count</th>\n",
              "      <td>344.000000</td>\n",
              "    </tr>\n",
              "    <tr>\n",
              "      <th>mean</th>\n",
              "      <td>1674.671512</td>\n",
              "    </tr>\n",
              "    <tr>\n",
              "      <th>std</th>\n",
              "      <td>294.852020</td>\n",
              "    </tr>\n",
              "    <tr>\n",
              "      <th>min</th>\n",
              "      <td>1159.000000</td>\n",
              "    </tr>\n",
              "    <tr>\n",
              "      <th>25%</th>\n",
              "      <td>1430.500000</td>\n",
              "    </tr>\n",
              "    <tr>\n",
              "      <th>50%</th>\n",
              "      <td>1637.500000</td>\n",
              "    </tr>\n",
              "    <tr>\n",
              "      <th>75%</th>\n",
              "      <td>1833.250000</td>\n",
              "    </tr>\n",
              "    <tr>\n",
              "      <th>max</th>\n",
              "      <td>2630.000000</td>\n",
              "    </tr>\n",
              "  </tbody>\n",
              "</table>\n",
              "</div>"
            ],
            "text/plain": [
              "       furto_veiculos\n",
              "count      344.000000\n",
              "mean      1674.671512\n",
              "std        294.852020\n",
              "min       1159.000000\n",
              "25%       1430.500000\n",
              "50%       1637.500000\n",
              "75%       1833.250000\n",
              "max       2630.000000"
            ]
          },
          "metadata": {
            "tags": []
          },
          "execution_count": 15
        }
      ]
    },
    {
      "cell_type": "code",
      "metadata": {
        "colab": {
          "base_uri": "https://localhost:8080/",
          "height": 265
        },
        "id": "BnT9kvzaxmJd",
        "outputId": "60085e1a-563f-4254-aeba-d406569bd284"
      },
      "source": [
        "# exibir gráfico da coluna furto_veiculos\n",
        "df_copy[[\"furto_veiculos\"]].plot();"
      ],
      "execution_count": 16,
      "outputs": [
        {
          "output_type": "display_data",
          "data": {
            "image/png": "[encoded data removed]",
            "text/plain": [
              "<Figure size 432x288 with 1 Axes>"
            ]
          },
          "metadata": {
            "tags": [],
            "needs_background": "light"
          }
        }
      ]
    },
    {
      "cell_type": "markdown",
      "metadata": {
        "id": "eo_OhCYm3amF"
      },
      "source": [
        "**Recuperção de Veículos** - É possível identificar na coluna `recuperacao_veiculos`, dados relacionados aos casos em que os veículos roubados ou furtados foram recuperados. Nota-se que a média é equivalente a 1772, o que condiz com uma estimativa baixa, pois somando as médias dos veículos roubados e dos veículos furtados (2448 + 1674 = 4122) temos a quantidade de 4122 no total, sendo que o percentual da média de casos em que o veículo foi recuperado não chega nem na metade.\n",
        "\n",
        "O gráfico a seguir apresenta a estimativa dos veículos recuperados e percebe-se uma maior eficiência nos últimos anos em relação aos primeiros.  "
      ]
    },
    {
      "cell_type": "code",
      "metadata": {
        "colab": {
          "base_uri": "https://localhost:8080/",
          "height": 297
        },
        "id": "KFLOD_luxaQe",
        "outputId": "5d9e3485-f69d-4d49-91db-3e1d506e6408"
      },
      "source": [
        "# exibir dados da coluna recuperacao_veiculos\n",
        "df_copy[[\"recuperacao_veiculos\"]].describe()"
      ],
      "execution_count": 17,
      "outputs": [
        {
          "output_type": "execute_result",
          "data": {
            "text/html": [
              "<div>\n",
              "<style scoped>\n",
              "    .dataframe tbody tr th:only-of-type {\n",
              "        vertical-align: middle;\n",
              "    }\n",
              "\n",
              "    .dataframe tbody tr th {\n",
              "        vertical-align: top;\n",
              "    }\n",
              "\n",
              "    .dataframe thead th {\n",
              "        text-align: right;\n",
              "    }\n",
              "</style>\n",
              "<table border=\"1\" class=\"dataframe\">\n",
              "  <thead>\n",
              "    <tr style=\"text-align: right;\">\n",
              "      <th></th>\n",
              "      <th>recuperacao_veiculos</th>\n",
              "    </tr>\n",
              "  </thead>\n",
              "  <tbody>\n",
              "    <tr>\n",
              "      <th>count</th>\n",
              "      <td>344.000000</td>\n",
              "    </tr>\n",
              "    <tr>\n",
              "      <th>mean</th>\n",
              "      <td>1772.238372</td>\n",
              "    </tr>\n",
              "    <tr>\n",
              "      <th>std</th>\n",
              "      <td>656.761843</td>\n",
              "    </tr>\n",
              "    <tr>\n",
              "      <th>min</th>\n",
              "      <td>729.000000</td>\n",
              "    </tr>\n",
              "    <tr>\n",
              "      <th>25%</th>\n",
              "      <td>1276.750000</td>\n",
              "    </tr>\n",
              "    <tr>\n",
              "      <th>50%</th>\n",
              "      <td>1755.000000</td>\n",
              "    </tr>\n",
              "    <tr>\n",
              "      <th>75%</th>\n",
              "      <td>2202.000000</td>\n",
              "    </tr>\n",
              "    <tr>\n",
              "      <th>max</th>\n",
              "      <td>3695.000000</td>\n",
              "    </tr>\n",
              "  </tbody>\n",
              "</table>\n",
              "</div>"
            ],
            "text/plain": [
              "       recuperacao_veiculos\n",
              "count            344.000000\n",
              "mean            1772.238372\n",
              "std              656.761843\n",
              "min              729.000000\n",
              "25%             1276.750000\n",
              "50%             1755.000000\n",
              "75%             2202.000000\n",
              "max             3695.000000"
            ]
          },
          "metadata": {
            "tags": []
          },
          "execution_count": 17
        }
      ]
    },
    {
      "cell_type": "code",
      "metadata": {
        "colab": {
          "base_uri": "https://localhost:8080/",
          "height": 265
        },
        "id": "F-7YaRAkrO5I",
        "outputId": "42a5fb8a-e989-4132-ef90-3839aa890946"
      },
      "source": [
        "# exibir gráfico da coluna recuperacao_veiculos\n",
        "df_copy[[\"recuperacao_veiculos\"]].plot();"
      ],
      "execution_count": 18,
      "outputs": [
        {
          "output_type": "display_data",
          "data": {
            "image/png": "[encoded data removed]",
            "text/plain": [
              "<Figure size 432x288 with 1 Axes>"
            ]
          },
          "metadata": {
            "tags": [],
            "needs_background": "light"
          }
        }
      ]
    },
    {
      "cell_type": "markdown",
      "metadata": {
        "id": "kfxn2fFivsYh"
      },
      "source": [
        "* **Ver qual a porcentagem de carros recuperados em relação aos carros roubados + carros furtados:**\n",
        "  * $\\frac{\\text{recuperacao_veiculos}}{\\text{roubo_veiculo} + \\text{furto_veiculos}}$\n",
        "\n",
        "É possível extrair as informações da porcentagem dos carros que foram recuperados em relação aos que foram roubados e furtados, assim é permitido uma análise mais detalhada por período. \n",
        "\n",
        "Para isso, criamos uma nova coluna no DataFrame `porcentagem_veiculos_recuperados` que recebe o valor da divisão de `recuperacao_veiculos` pela soma de `roubo_veiculo` com `furto_veiculos` que representa a porcentagem.\n",
        "\n",
        "Visualizar as porcentagens dos casos de recuperação de veículos.\n",
        "\n",
        "O gráfico posterior apresenta melhores detalhes em relação aos veículos que foram recuperados de acordo com os que foram roubados ou furtados por período. Os últimos anos apresentam uma porcentagem maior de recuperação de veículos."
      ]
    },
    {
      "cell_type": "code",
      "metadata": {
        "id": "6d6m8awK_mlF"
      },
      "source": [
        "# criar a coluna porcentagem_veiculos_recuperados que recebe a porcentagem \n",
        "df_copy[[\"porcentagem_veiculos_recuperados\"]] = df_copy.recuperacao_veiculos / (df_copy.roubo_veiculo + df_copy.furto_veiculos)"
      ],
      "execution_count": 19,
      "outputs": []
    },
    {
      "cell_type": "code",
      "metadata": {
        "colab": {
          "base_uri": "https://localhost:8080/",
          "height": 419
        },
        "id": "Xr5eprURATrR",
        "outputId": "e9ead38c-806c-4048-d0b1-2e8113573ef6"
      },
      "source": [
        "# exibir a porcentagem\n",
        "df_copy[[\"porcentagem_veiculos_recuperados\"]]"
      ],
      "execution_count": 20,
      "outputs": [
        {
          "output_type": "execute_result",
          "data": {
            "text/html": [
              "<div>\n",
              "<style scoped>\n",
              "    .dataframe tbody tr th:only-of-type {\n",
              "        vertical-align: middle;\n",
              "    }\n",
              "\n",
              "    .dataframe tbody tr th {\n",
              "        vertical-align: top;\n",
              "    }\n",
              "\n",
              "    .dataframe thead th {\n",
              "        text-align: right;\n",
              "    }\n",
              "</style>\n",
              "<table border=\"1\" class=\"dataframe\">\n",
              "  <thead>\n",
              "    <tr style=\"text-align: right;\">\n",
              "      <th></th>\n",
              "      <th>porcentagem_veiculos_recuperados</th>\n",
              "    </tr>\n",
              "  </thead>\n",
              "  <tbody>\n",
              "    <tr>\n",
              "      <th>0</th>\n",
              "      <td>0.273955</td>\n",
              "    </tr>\n",
              "    <tr>\n",
              "      <th>1</th>\n",
              "      <td>0.254835</td>\n",
              "    </tr>\n",
              "    <tr>\n",
              "      <th>2</th>\n",
              "      <td>0.235593</td>\n",
              "    </tr>\n",
              "    <tr>\n",
              "      <th>3</th>\n",
              "      <td>0.224857</td>\n",
              "    </tr>\n",
              "    <tr>\n",
              "      <th>4</th>\n",
              "      <td>0.232526</td>\n",
              "    </tr>\n",
              "    <tr>\n",
              "      <th>...</th>\n",
              "      <td>...</td>\n",
              "    </tr>\n",
              "    <tr>\n",
              "      <th>339</th>\n",
              "      <td>0.524905</td>\n",
              "    </tr>\n",
              "    <tr>\n",
              "      <th>340</th>\n",
              "      <td>0.477676</td>\n",
              "    </tr>\n",
              "    <tr>\n",
              "      <th>341</th>\n",
              "      <td>0.467476</td>\n",
              "    </tr>\n",
              "    <tr>\n",
              "      <th>342</th>\n",
              "      <td>0.517469</td>\n",
              "    </tr>\n",
              "    <tr>\n",
              "      <th>343</th>\n",
              "      <td>0.458168</td>\n",
              "    </tr>\n",
              "  </tbody>\n",
              "</table>\n",
              "<p>344 rows × 1 columns</p>\n",
              "</div>"
            ],
            "text/plain": [
              "     porcentagem_veiculos_recuperados\n",
              "0                            0.273955\n",
              "1                            0.254835\n",
              "2                            0.235593\n",
              "3                            0.224857\n",
              "4                            0.232526\n",
              "..                                ...\n",
              "339                          0.524905\n",
              "340                          0.477676\n",
              "341                          0.467476\n",
              "342                          0.517469\n",
              "343                          0.458168\n",
              "\n",
              "[344 rows x 1 columns]"
            ]
          },
          "metadata": {
            "tags": []
          },
          "execution_count": 20
        }
      ]
    },
    {
      "cell_type": "code",
      "metadata": {
        "colab": {
          "base_uri": "https://localhost:8080/",
          "height": 265
        },
        "id": "-7mvIwme__my",
        "outputId": "e51c1f44-cced-4674-be69-a9f95203b56f"
      },
      "source": [
        "# exibir gráfico da coluna porcentagem_veiculos_recuperados\n",
        "df_copy[[\"porcentagem_veiculos_recuperados\"]].plot();"
      ],
      "execution_count": 21,
      "outputs": [
        {
          "output_type": "display_data",
          "data": {
            "image/png": "[encoded data removed]",
            "text/plain": [
              "<Figure size 432x288 with 1 Axes>"
            ]
          },
          "metadata": {
            "tags": [],
            "needs_background": "light"
          }
        }
      ]
    },
    {
      "cell_type": "markdown",
      "metadata": {
        "id": "aozsLE7QvxPo"
      },
      "source": [
        "* **Ver os valores máximos (`max`) e mínimos (`min`) da coluna `hom_doloso`**\n",
        "\n",
        "A seguir estão apresentados os valores, máximo igual a 831 e mínimo igual a 272 dos casos de homicídio doloso por cada mês no ano, o que representa uma taxa elevada de crimes de assassinato mensalmente."
      ]
    },
    {
      "cell_type": "code",
      "metadata": {
        "colab": {
          "base_uri": "https://localhost:8080/"
        },
        "id": "sVBtHgLMze_b",
        "outputId": "18fa5a8a-7357-473d-dd64-da52b7d80fab"
      },
      "source": [
        "# máximo\n",
        "df_copy[[\"hom_doloso\"]].max()"
      ],
      "execution_count": 22,
      "outputs": [
        {
          "output_type": "execute_result",
          "data": {
            "text/plain": [
              "hom_doloso    831\n",
              "dtype: int64"
            ]
          },
          "metadata": {
            "tags": []
          },
          "execution_count": 22
        }
      ]
    },
    {
      "cell_type": "code",
      "metadata": {
        "colab": {
          "base_uri": "https://localhost:8080/"
        },
        "id": "gcZRGNj_z5Hg",
        "outputId": "c9528973-aab7-4355-8aa7-581d8eab2e43"
      },
      "source": [
        "# mínimo\n",
        "df_copy[[\"hom_doloso\"]].min()"
      ],
      "execution_count": 23,
      "outputs": [
        {
          "output_type": "execute_result",
          "data": {
            "text/plain": [
              "hom_doloso    272\n",
              "dtype: int64"
            ]
          },
          "metadata": {
            "tags": []
          },
          "execution_count": 23
        }
      ]
    },
    {
      "cell_type": "markdown",
      "metadata": {
        "id": "7WK0NBQZASKC"
      },
      "source": [
        "## Visualização de Dados\n",
        "\n",
        "A visualização é importante para permitir explorar visualmente os dados e extrair informações através de interpretações.\n",
        "\n",
        "\n",
        "* **Histograma para a variável `hom_doloso`**\n",
        "\n",
        "No histograma a seguir, é possível perceber a representação da variável `hom_doloso` e sua frequência distribuída em relação aos valores das entradas. \n",
        "\n",
        "Nota-se que a maior frequência dos valores se encontram aproximadamente um pouco antes de 500 casos até próximo a 550 casos de homicídios dolosos por mês. Como foi apresentado anteriormente, também é perceptível a frequência dos valores máximos (831) e mínimos (272).\n"
      ]
    },
    {
      "cell_type": "code",
      "metadata": {
        "colab": {
          "base_uri": "https://localhost:8080/",
          "height": 281
        },
        "id": "t-87r-ggZPW2",
        "outputId": "de32a6f0-e560-417a-be0b-7f8ac87ac7ac"
      },
      "source": [
        "# plotar o histograma da variável hom_doloso\n",
        "df_copy[[\"hom_doloso\"]].hist();"
      ],
      "execution_count": 24,
      "outputs": [
        {
          "output_type": "display_data",
          "data": {
            "image/png": "[encoded data removed]",
            "text/plain": [
              "<Figure size 432x288 with 1 Axes>"
            ]
          },
          "metadata": {
            "tags": [],
            "needs_background": "light"
          }
        }
      ]
    },
    {
      "cell_type": "markdown",
      "metadata": {
        "id": "AxxklZsaEAl0"
      },
      "source": [
        "\n",
        "* **Gráfico de linha para a variável `roubo_em_coletivo`**\n",
        "\n",
        "O gráfico de linha da variável `roubo_em_coletivo` permite perceber a crescente evolução dos casos nos últimos anos que se enquadram no critério como roubo em coletivo."
      ]
    },
    {
      "cell_type": "code",
      "metadata": {
        "colab": {
          "base_uri": "https://localhost:8080/",
          "height": 265
        },
        "id": "pgD7DthWZyF_",
        "outputId": "53bef29c-6008-4221-d751-ecf6bb0b2c4d"
      },
      "source": [
        "# exibir gráfico da coluna roubo_em_coletivo\n",
        "df_copy[[\"roubo_em_coletivo\"]].plot();"
      ],
      "execution_count": 25,
      "outputs": [
        {
          "output_type": "display_data",
          "data": {
            "image/png": "[encoded data removed]",
            "text/plain": [
              "<Figure size 432x288 with 1 Axes>"
            ]
          },
          "metadata": {
            "tags": [],
            "needs_background": "light"
          }
        }
      ]
    },
    {
      "cell_type": "markdown",
      "metadata": {
        "id": "LCsiXvM3BcsO"
      },
      "source": [
        "## Conclusão\n",
        "\n",
        "Esta análise teve como objetivo explorar os dados reais a respeito da criminalidade no estado do Rio de Janeiro para expor através de dados estatísticos e visuais algumas das informações contidas no *dataset* sobre a violência.\n",
        "\n",
        "Para não ficar muito extenso, foi feito uma análise mais detalhada de apenas algumas variáveis do *dataset*, mas o mesmo possui vários outros valores também importantes.\n",
        "\n",
        "Por fim, conclui-se através dos dados extraídos que a violência no Rio de Janeiro apresenta valores relativamente altos para os tipos de casos de crimes estudados e que maior parte deles tenderam a um aumento crescente no decorrer dos anos, o que significa que passaram a ocorrer com maior frequência.  "
      ]
    }
  ]
}